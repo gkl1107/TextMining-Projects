{
 "cells": [
  {
   "cell_type": "markdown",
   "metadata": {},
   "source": [
    "# Text classification in Python"
   ]
  },
  {
   "cell_type": "markdown",
   "metadata": {},
   "source": [
    "## Using Scilkit-learn's Naive Bayes Classifier and SVM Classifier"
   ]
  },
  {
   "cell_type": "markdown",
   "metadata": {},
   "source": [
    "#### Fit a Naive Bayes classsifier using train_test_split on the training data"
   ]
  },
  {
   "cell_type": "code",
   "execution_count": null,
   "metadata": {},
   "outputs": [],
   "source": [
    "from sklearn import naive_bayes\n",
    "from sklearn import model_selectiion\n",
    "\n",
    "X_train, X_test, y_train, y_test = model_selection.train_test_split(training_data, training_labels, test_size = 0.333, random_state = 0)\n",
    "\n",
    "clfNB = naive_bayes.MultinomialNB()\n",
    "clfNB.fit(X_train, y_train)\n",
    "predicted_labels = clfNB.predict(X_test)\n",
    "metrics.f1_score(y_test, predicted_labels, average = 'micro')"
   ]
  },
  {
   "cell_type": "markdown",
   "metadata": {},
   "source": [
    "#### Fit a Naive Bayes classsifier using cross validation with 5 folds on the training data"
   ]
  },
  {
   "cell_type": "code",
   "execution_count": null,
   "metadata": {},
   "outputs": [],
   "source": [
    "from sklearn import naive_bayes\n",
    "from sklearn import model_selection\n",
    "\n",
    "clfNB = naive_bayes.MultinomialNB()\n",
    "predicted_labels = model_selection.cross_val_predict(clfNB, training_data, training_labels, cv = 5)\n"
   ]
  },
  {
   "cell_type": "markdown",
   "metadata": {},
   "source": [
    "#### Fit a SVM classsifier"
   ]
  },
  {
   "cell_type": "code",
   "execution_count": null,
   "metadata": {},
   "outputs": [],
   "source": [
    "from sklearn import svm\n",
    "clfSVM = svm.SVC(kernel = 'linear', C = 0.1)\n",
    "clfSVM.fit(X_train, y_train)\n",
    "clfSVM.predict(X_test)\n"
   ]
  },
  {
   "cell_type": "markdown",
   "metadata": {},
   "source": [
    "## Using NLTK's Naive Bayes Classifier"
   ]
  },
  {
   "cell_type": "markdown",
   "metadata": {},
   "source": [
    "#### Fit a Naive Bayes classifier using NLTK"
   ]
  },
  {
   "cell_type": "code",
   "execution_count": 2,
   "metadata": {},
   "outputs": [],
   "source": [
    "from nltk.classify import NaiveBayesClassifier\n",
    "\n",
    "# fit a model\n",
    "clf = NaiveBayesClassifier.train(training_set)\n",
    "\n",
    "# classify one unlabeled instance\n",
    "clf.classify(unlabeled_instance)\n",
    "\n",
    "# classify more than one unlabeled instance\n",
    "clf.classify_many(unlabeled_instances)\n",
    "\n",
    "# check the accuracy of the fitted classifier\n",
    "nltk.classify.util.accuracy(clf, test_set)\n",
    "\n",
    "# check all the labels that the fitted classifier had trained on\n",
    "clf.labels()\n",
    "\n",
    "# check top few features that are most important/imformative for the fitted classifier\n",
    "classifier.show_most_imformative_features()\n"
   ]
  },
  {
   "cell_type": "markdown",
   "metadata": {},
   "source": [
    "## Using NLTK's SklearnClassifier, from where we could use multinomial Naive Bayes classifier or SVM "
   ]
  },
  {
   "cell_type": "code",
   "execution_count": null,
   "metadata": {},
   "outputs": [],
   "source": [
    "from nltk.classify import SklearnClassifier\n",
    "from sklearn.naive_bayes import MultinomialNB\n",
    "from sklearn.svm import SVC\n",
    "\n",
    "# fit a multinomial naive bayes classifer\n",
    "clfNB = SklearnClassifier(MultinomialNB()).train(training_set)\n",
    "\n",
    "# fit a SVM classifier\n",
    "clfSVM = SklearnClassifier(SVC(), kernel = 'linear').train(training_set)"
   ]
  }
 ],
 "metadata": {
  "kernelspec": {
   "display_name": "Python 3",
   "language": "python",
   "name": "python3"
  },
  "language_info": {
   "codemirror_mode": {
    "name": "ipython",
    "version": 3
   },
   "file_extension": ".py",
   "mimetype": "text/x-python",
   "name": "python",
   "nbconvert_exporter": "python",
   "pygments_lexer": "ipython3",
   "version": "3.7.6"
  }
 },
 "nbformat": 4,
 "nbformat_minor": 4
}
